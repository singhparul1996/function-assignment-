{
  "nbformat": 4,
  "nbformat_minor": 0,
  "metadata": {
    "colab": {
      "provenance": []
    },
    "kernelspec": {
      "name": "python3",
      "display_name": "Python 3"
    },
    "language_info": {
      "name": "python"
    }
  },
  "cells": [
    {
      "cell_type": "markdown",
      "source": [
        "\n"
      ],
      "metadata": {
        "id": "sKLRUMevX2cx"
      }
    },
    {
      "cell_type": "markdown",
      "source": [
        "1.What is the difference between a function and a method in Python?\n",
        "  -In Python, both functions and methods are blocks of reusable code that perform specific tasks, but they differ in their associations and how they are called.\n",
        "   Functions are defined independently and can be called by their name directly. They can accept parameters and return values. For example:\n",
        "   #Define a function\n",
        "def factorial(n):\n",
        "    return 1 if (n==1 or n==0) else n * factorial(n-1);\n",
        "\n",
        "#Enter input\n",
        "n = int(input(\"Enter input number : \"))\n",
        "\n",
        "print(\"The factorial of\",n,\"is\",factorial(n))\n",
        "\n",
        "as Python is an Object-Oriented Programming language, so it contains objects, and these objects have different properties and behavior. Methods in Python are used to define the behavior of the python objects.for example\n",
        "\n",
        "class Employee(object):\n",
        "   def my_method(self):\n",
        "      print(\"I am Vikram\")\n",
        "name = Employee()\n",
        "name.my_method()\n",
        "\n",
        "  The key differences between functions and methods in Python are:\n",
        "  \n",
        "  Association: Functions are not associated with any object, whereas methods are associated with the objects of the class they are defined in.\n",
        "  \n",
        "  Calling mechanism: Functions are called by their name directly, while methods are called on an object using the dot notation.\n",
        "  \n",
        "  Implicit parameter: Methods have an implicit first parameter, commonly named self, which refers to the instance of the class. Functions do not have this implicit parameter.\n",
        "  "
      ],
      "metadata": {
        "id": "5Zw_vq_lC7JH"
      }
    },
    {
      "cell_type": "markdown",
      "source": [
        "2. Explain the concept of function arguments and parameters in Python.\n",
        "  -Parameters are variables defined in a function declaration. This act as placeholders for the values (arguments) that will be passed to the function\n",
        "  A parameter is the variable defined within the parentheses when we declare a function.\n",
        "  Example:\n",
        "  # Here a,b are the parameters\n",
        "def sum(a,b):\n",
        "  print(a+b)\n",
        "  \n",
        "sum(1,2)\n",
        "  Arguments are the actual values that you pass to the function when you call it. These values replace the parameters defined in the function.\n",
        "  An argument is a value that is passed to a function when it is called. It might be a variable, value or object passed to a function or method as input.\n",
        "  Example:\n",
        "  def sum(a,b):\n",
        "  print(a+b)\n",
        "  \n",
        "# Here the values 1,2 are arguments\n",
        "sum(1,2)\n",
        "   Although these terms are often used interchangeably, they have distinct roles within a function. This article focuses to clarify them and help us to use Parameters and Arguments effectively."
      ],
      "metadata": {
        "id": "dEPv0bpqQdwe"
      }
    },
    {
      "cell_type": "markdown",
      "source": [
        "3. What are the different ways to define and call a function in Python?\n",
        "  -In Python Function is a block of code which performe some specific computation\n",
        "  function code are usable , neat , clean and organised. it saves your time as well\n",
        "  you define a function using the keyword \"def\" followed by the function name, parentheses for any parameters.\n",
        "  Eample:\n",
        "  def greet(name):\n",
        "\n",
        "    print(\"Hello, \" + name + \"!\")\n",
        "\n",
        " when we execute\n",
        "    greet(\"Alice\")\n",
        "\n",
        "  output:\n",
        "   \"Hello, Alice!\"\n",
        "\n",
        "\n"
      ],
      "metadata": {
        "id": "Diq7kO8SUVxY"
      }
    },
    {
      "cell_type": "markdown",
      "source": [
        "4. What is the purpose of the `return` statement in a Python function?\n",
        "  -A return statement is used to end the execution of the function call and it “returns” the value of the expression following the return keyword to the caller. The statements after the return statements are not executed. If the return statement is without any expression, then the special value None is returned. A return statement is overall used to invoke a function so that the passed statements can be executed.\n",
        "  Example:\n",
        " def func():\n",
        "    calc =2+3*5\n",
        "    return calc  \n",
        "when we call the func() then the output is 17\n"
      ],
      "metadata": {
        "id": "EryfKXbJZGkw"
      }
    },
    {
      "cell_type": "markdown",
      "source": [
        "5. What are iterators in Python and how do they differ from iterables?\n",
        "  -Iterable is an python object or sequential structure that is capable of  produce and return the elements one at a time.\n",
        "   An iterator is a intermediate state where you creat an object can be itrated. which consist of the methods __iter__() and __next__(). which returns the next item of the object.\n",
        "   **Iterator vs Iterable**\n",
        "   Lists, tuples, dictionaries, and sets are all iterable objects. They are iterable containers which you can get an iterator from."
      ],
      "metadata": {
        "id": "QHKOOnjudhpH"
      }
    },
    {
      "cell_type": "markdown",
      "source": [
        "6. Explain the concept of generators in Python and how they are defined.\n",
        "   -Python generator functions are a powerful tool for creating iterators. In this article, we will discuss how the generator function works in Python\n",
        "  ** Generator Function in Python**\n",
        "     A generator function is a special type of function that returns an iterator object. Instead of using return to send back a single value, generator functions use yield to produce a series of results over time. This allows the function to generate values and pause its execution after each yield, maintaining its state between iterations.\n",
        "     \n",
        "     Example:\n",
        "     def fun(max):\n",
        "      cnt = 1\n",
        "      while cnt <= max:\n",
        "        yield cnt\n",
        "        cnt += 1\n",
        "     ctr = fun(5)\n",
        "     for n in ctr:\n",
        "     print(n)"
      ],
      "metadata": {
        "id": "59vernESjy0e"
      }
    },
    {
      "cell_type": "markdown",
      "source": [
        "7. What are the advantages of using generators over regular functions?\n",
        "  - A generator in Python is a special type of function that allows you to iterate over a set of values. Unlike a regular function, a generator does not return its results all at once. Instead, it yields its values one by one, each time it is called. This makes it possible to generate an infinite sequence of values, as long as there is sufficient memory to store them.\n",
        "  The syntax for creating a generator is similar to that of a regular function, with a few key differences. To create a generator, you use the yield keyword instead of the return keyword, and you wrap the function definition in parentheses instead of square brackets.\n",
        "  There are several advantages to using generators over regular loops. Here are a few of the most important ones:\n",
        "  1.Memory Efficiency: One of the biggest advantages of generators is that they are memory efficient. Since a generator yields its values one by one, it does not need to store all of the values in memory at once. This can be especially useful when working with large data sets, as it reduces the risk of running out of memory.\n",
        "  2.Readability: Generators can make your code easier to read and understand. By breaking up the iteration process into smaller chunks, you can write code that is more concise and easier to follow.\n",
        "  3.Speed: Generators can also be faster than regular loops, especially when working with large data sets. This is because they avoid the overhead of creating a list or other data structure to store the results."
      ],
      "metadata": {
        "id": "HYq82pJSvNhY"
      }
    },
    {
      "cell_type": "markdown",
      "source": [
        "8. What is a lambda function in Python and when is it typically used?\n",
        "  -In Python, a lambda function is a small, anonymous function that's defined using the keyword lambda. Lambda functions are often used for short-term tasks and simple operations.\n",
        "  syntax:- lambda argument:expression\n",
        "*  The lambda keyword defines the function.\n",
        "*  It takes any number of arguments.\n",
        "*  The expression is evaluated and returned.\n",
        "def square(x):\n",
        "   return x**2 # can we write 2 line of code in one line is called lambda function and no need of return function and def keyword as well\n",
        "   sq_lambda=lambda x:x**2\n",
        "    \"\"\"\n",
        "    when we execute sq_lambda(2) then the output is 4 square of 2\n",
        "    \"\"\"\n",
        "  When to Use Lambda Functions\n",
        "* When you need a short, inline function for simple operations.\n",
        "* When defining a function with def would be unnecessarily verbose.\n",
        "* In functional programming paradigms using map(), filter(), reduce(), etc.\n",
        "\n",
        "\n"
      ],
      "metadata": {
        "id": "9GPbugNO-5vR"
      }
    },
    {
      "cell_type": "markdown",
      "source": [
        "9. Explain the purpose and usage of the `map()` function in Python.\n",
        "  - The map() function in Python is used to apply a given function to all items in an iterable (such as a list or tuple) and return an iterator with the transformed values.\n",
        "  syntax of map\n",
        "  map(function,itrables)\n",
        "In many programming languages, map is a higher-order function that applies a given function to each element of a collection, e.g. a list or set, returning the results in a collection of the same type. It is often called apply-to-all when considered in functional form.\n"
      ],
      "metadata": {
        "id": "AVay0uRtCg8Z"
      }
    },
    {
      "cell_type": "markdown",
      "source": [
        "10. What is the difference between `map()`, `reduce()`, and `filter()` functions in Python?\n",
        "  - In Python, map(), reduce(), and filter() are built-in higher-order functions that operate on iterables. Here's how they differ:\n",
        "\n",
        "1. map(function, iterable)\n",
        "Purpose: Applies a given function to each item in an iterable and returns a new iterable (typically a map object, which can be converted to a list, tuple, etc.).\n",
        "Usage: When you want to transform all elements of an iterable.\n",
        "Example:\n",
        "numbers = [1, 2, 3, 4, 5]\n",
        "squared = map(lambda x: x ** 2, numbers)\n",
        "print(list(squared))  \n",
        "# Output: [1, 4, 9, 16, 25]\n",
        "2. filter(function, iterable)\n",
        "Purpose: Filters elements of an iterable based on a condition (i.e., only elements for which the function returns True are included).\n",
        "Usage: When you want to extract specific elements from an iterable based on a condition.\n",
        "Example:\n",
        "numbers = [1, 2, 3, 4, 5, 6]\n",
        "evens = filter(lambda x: x % 2 == 0, numbers)\n",
        "print(list(evens))\n",
        "# Output: [2, 4, 6]\n",
        "3. reduce(function, iterable)\n",
        "Purpose: Performs a cumulative computation on an iterable, reducing it to a single value.\n",
        "Usage: When you need to aggregate elements (e.g., sum, product, or find the maximum).\n",
        "Note: reduce() is part of functools module and needs to be imported.\n",
        "Example:\n",
        "from functools import reduce\n",
        "numbers = [1, 2, 3, 4, 5]\n",
        "product = reduce(lambda x, y: x * y, numbers)\n",
        "print(product)  \n",
        "# Output: 120 (1*2*3*4*5)\n",
        " Differences\n",
        "Function\tPurpose\tInput\tOutput\n",
        "map()\tTransforms each element\tIterable\tIterable of transformed elements\n",
        "filter()\tSelects elements based on condition\tIterable\tIterable of filtered elements\n",
        "reduce()\tAggregates all elements into a single value\tIterable\tSingle value"
      ],
      "metadata": {
        "id": "pxEHDX-fqwEo"
      }
    },
    {
      "cell_type": "markdown",
      "source": [
        "11. Using pen & Paper write the internal mechanism for sum operation using  reduce function on this given\n",
        "list:[47,11,42,13];\n",
        "from functools import reduce\n",
        "numbers = [47, 11, 42, 13]\n",
        "total = reduce(lambda x, y: x + y, numbers)\n",
        "print(total)\n",
        "\n",
        " # Output: 113\n",
        "\n",
        "Step\tOperation\tResult\n",
        "1    \t47 + 11\t    58\n",
        "2\t    58 + 42\t    100\n",
        "3\t    100 + 13\t  113\n"
      ],
      "metadata": {
        "id": "jZ08yGBfynCF"
      }
    },
    {
      "cell_type": "code",
      "execution_count": null,
      "metadata": {
        "id": "LAJDejnRXLMj",
        "colab": {
          "base_uri": "https://localhost:8080/"
        },
        "outputId": "da538b63-61c1-4b59-dd4e-4c8d9d928f44"
      },
      "outputs": [
        {
          "output_type": "stream",
          "name": "stdout",
          "text": [
            "30\n"
          ]
        }
      ],
      "source": [
        "#1. Write a Python function that takes a list of numbers as input and returns the sum of all even numbers in the list.\n",
        "\n",
        "def sum_of_evens(numbers):\n",
        "    return sum(filter(lambda x: x % 2 == 0, numbers))\n",
        "numbers = [1, 2, 3, 4, 5, 6, 7, 8, 9, 10]\n",
        "print(sum_of_evens(numbers))\n"
      ]
    },
    {
      "cell_type": "code",
      "source": [
        "#2.Create a Python function that accepts a string and returns the reverse of that string\n",
        "def reverse_string(s):\n",
        "    return s[::-1]\n",
        "text = \"Hello, World!\"\n",
        "print(reverse_string(text))\n"
      ],
      "metadata": {
        "colab": {
          "base_uri": "https://localhost:8080/"
        },
        "id": "D66-PDsL4QHB",
        "outputId": "3c09a6ec-7987-425c-d4fc-a19198e9d3b5"
      },
      "execution_count": null,
      "outputs": [
        {
          "output_type": "stream",
          "name": "stdout",
          "text": [
            "!dlroW ,olleH\n"
          ]
        }
      ]
    },
    {
      "cell_type": "code",
      "source": [
        "#3. Implement a Python function that takes a list of integers and returns a new list containing the squares of each number.\n",
        "\n",
        "def square_numbers(numbers):\n",
        "    return [x ** 2 for x in numbers]\n",
        "nums = [1, 2, 3, 4, 5]\n",
        "print(square_numbers(nums))"
      ],
      "metadata": {
        "colab": {
          "base_uri": "https://localhost:8080/"
        },
        "id": "LMltxe3C-3u1",
        "outputId": "25390732-11ce-4dde-b733-a50cebab8d7a"
      },
      "execution_count": null,
      "outputs": [
        {
          "output_type": "stream",
          "name": "stdout",
          "text": [
            "[1, 4, 9, 16, 25]\n"
          ]
        }
      ]
    },
    {
      "cell_type": "code",
      "source": [
        "#4. Write a Python function that checks if a given number is prime or not from 1 to 200\n",
        "def is_prime(n):\n",
        "    if n < 2:\n",
        "        return False\n",
        "    for i in range(2, int(n/2) + 1):\n",
        "        if n % i == 0:\n",
        "            return False\n",
        "    return True\n",
        "primes = [n for n in range(1, 200) if is_prime(n)]\n",
        "print(primes)"
      ],
      "metadata": {
        "colab": {
          "base_uri": "https://localhost:8080/"
        },
        "id": "gzRexKv-_3K6",
        "outputId": "a9c300f5-4fb0-4dd5-a9c7-a36c6168625c"
      },
      "execution_count": null,
      "outputs": [
        {
          "output_type": "stream",
          "name": "stdout",
          "text": [
            "[2, 3, 5, 7, 11, 13, 17, 19, 23, 29, 31, 37, 41, 43, 47, 53, 59, 61, 67, 71, 73, 79, 83, 89, 97, 101, 103, 107, 109, 113, 127, 131, 137, 139, 149, 151, 157, 163, 167, 173, 179, 181, 191, 193, 197, 199]\n"
          ]
        }
      ]
    },
    {
      "cell_type": "code",
      "source": [
        "#5. Create an iterator class in Python that generates the Fibonacci sequence up to a specified number of terms.\n",
        "def fib(n):\n",
        "  a,b= 0,1\n",
        "  for i in range(4):\n",
        "    yield a\n",
        "    a,b=b,a+b\n",
        "    f=fib(10)\n",
        "    print(next(fib),end=\" \")\n",
        "\n"
      ],
      "metadata": {
        "id": "o5Cm4rJnALwR"
      },
      "execution_count": null,
      "outputs": []
    },
    {
      "cell_type": "code",
      "source": [
        "#6. Write a generator function in Python that yields the powers of 2 up to a given exponent\n",
        "def powers_of_two(max_exponent):\n",
        "    for exponent in range(max_exponent + 1):\n",
        "        yield 2 ** exponent\n",
        "for power in powers_of_two(5):\n",
        "    print(power)"
      ],
      "metadata": {
        "id": "l7uCef37AXNy",
        "colab": {
          "base_uri": "https://localhost:8080/"
        },
        "outputId": "d083d960-7a07-4d17-bdd4-eede0bea2fbe"
      },
      "execution_count": null,
      "outputs": [
        {
          "output_type": "stream",
          "name": "stdout",
          "text": [
            "1\n",
            "2\n",
            "4\n",
            "8\n",
            "16\n",
            "32\n"
          ]
        }
      ]
    },
    {
      "cell_type": "code",
      "source": [
        "#7. Implement a generator function that reads a file line by line and yields each line as a string."
      ],
      "metadata": {
        "id": "He0uyChKAd-C"
      },
      "execution_count": null,
      "outputs": []
    },
    {
      "cell_type": "code",
      "source": [
        "#8. Use a lambda function in Python to sort a list of tuples based on the second element of each tuple.\n",
        "tuples_list = [(1, 5), (4, 2), (2, 3), (3, 4)]\n",
        "\n",
        "# Sorting based on the second element of each tuple\n",
        "sorted_list = sorted(tuples_list, key=lambda x: x[1])\n",
        "print(sorted_list)"
      ],
      "metadata": {
        "id": "SJr15aTZAkNj",
        "colab": {
          "base_uri": "https://localhost:8080/"
        },
        "outputId": "49cd1710-73af-4968-956f-8b1f3b8fc53c"
      },
      "execution_count": null,
      "outputs": [
        {
          "output_type": "stream",
          "name": "stdout",
          "text": [
            "[(4, 2), (2, 3), (3, 4), (1, 5)]\n"
          ]
        }
      ]
    },
    {
      "cell_type": "code",
      "source": [
        "#9. Write a Python program that uses `map()` to convert a list of temperatures from Celsius to Fahrenheit.\n",
        "def celsius_to_fahrenheit(celsius_temp):\n",
        "    return (celsius_temp * 9/5) + 32\n",
        "\n",
        "# Example list of temperatures in Celsius\n",
        "celsius_temperatures = [0, 20, 30, ]\n",
        "\n",
        "# Convert to Fahrenheit using map()\n",
        "fahrenheit_temperatures = list(map(celsius_to_fahrenheit, celsius_temperatures))\n",
        "print(fahrenheit_temperatures)"
      ],
      "metadata": {
        "id": "2zoxMa8ZAqW5",
        "colab": {
          "base_uri": "https://localhost:8080/"
        },
        "outputId": "11c4edb9-c29c-4892-db88-e0a262be97a8"
      },
      "execution_count": null,
      "outputs": [
        {
          "output_type": "stream",
          "name": "stdout",
          "text": [
            "[32.0, 68.0, 86.0]\n"
          ]
        }
      ]
    },
    {
      "cell_type": "code",
      "source": [
        "#10. Create a Python program that uses `filter()` to remove all the vowels from a given string.\n",
        "def remove_vowels(s):\n",
        "    vowels = \"aeiouAEIOU\"\n",
        "    return \"\".join(filter(lambda char: char not in vowels, s))\n",
        "\n",
        "input_string = \"Hello, World!\"\n",
        "output_string = remove_vowels(input_string)\n",
        "print(output_string)\n",
        "\n"
      ],
      "metadata": {
        "id": "7CumuO0hAveS",
        "colab": {
          "base_uri": "https://localhost:8080/"
        },
        "outputId": "b274911f-79ba-4550-e899-a254f911db76"
      },
      "execution_count": null,
      "outputs": [
        {
          "output_type": "stream",
          "name": "stdout",
          "text": [
            "Hll, Wrld!\n"
          ]
        }
      ]
    }
  ]
}